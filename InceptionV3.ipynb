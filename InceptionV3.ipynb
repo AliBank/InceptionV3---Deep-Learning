{
  "cells": [
    {
      "cell_type": "markdown",
      "metadata": {
        "id": "view-in-github",
        "colab_type": "text"
      },
      "source": [
        "<a href=\"https://colab.research.google.com/github/AliBank/InceptionV3---Deep-Learning/blob/main/InceptionV3.ipynb\" target=\"_parent\"><img src=\"https://colab.research.google.com/assets/colab-badge.svg\" alt=\"Open In Colab\"/></a>"
      ]
    },
    {
      "cell_type": "code",
      "execution_count": null,
      "metadata": {
        "colab": {
          "base_uri": "https://localhost:8080/"
        },
        "id": "4ABForICv45e",
        "outputId": "9417ffb7-ce03-47f8-dcd3-e1d75bd5421f"
      },
      "outputs": [
        {
          "name": "stdout",
          "output_type": "stream",
          "text": [
            "Drive already mounted at /content/drive; to attempt to forcibly remount, call drive.mount(\"/content/drive\", force_remount=True).\n"
          ]
        }
      ],
      "source": [
        "from google.colab import drive\n",
        "drive.mount('/content/drive')"
      ]
    },
    {
      "cell_type": "code",
      "execution_count": null,
      "metadata": {
        "id": "S51t3J_Uv_Ek"
      },
      "outputs": [],
      "source": [
        "!pip install -q keras\n",
        "!pip install h5py pyyaml"
      ]
    },
    {
      "cell_type": "code",
      "execution_count": null,
      "metadata": {
        "id": "KlOxAOtMuJPT"
      },
      "outputs": [],
      "source": [
        "from keras.applications.inception_v3 import InceptionV3\n",
        "from keras.preprocessing.image import ImageDataGenerator\n",
        "from tensorflow.keras import layers\n",
        "from tensorflow.keras import Model\n",
        "from keras.layers import Flatten\n",
        "from tensorflow.keras.layers import Conv2D, AveragePooling2D, GlobalAveragePooling2D\n",
        "from keras.optimizers import RMSprop\n",
        "from tensorflow.keras.utils import img_to_array\n",
        "from tensorflow.keras.utils import load_img\n",
        "from tensorflow.keras.models import Sequential\n",
        "from keras.layers import Dense\n",
        "import matplotlib.pyplot as plt\n",
        "from glob import glob\n",
        "from keras.utils import to_categorical\n",
        "import cv2\n",
        "import numpy as np\n",
        "from __future__ import absolute_import, division, print_function\n",
        "import os\n",
        "import tensorflow as tf\n",
        "from tensorflow import keras"
      ]
    },
    {
      "cell_type": "code",
      "execution_count": null,
      "metadata": {
        "id": "EGCgDN0GwVce"
      },
      "outputs": [],
      "source": [
        "train_path=\"/content/drive/MyDrive/BaklagilDataSet/DB3_Histeq/fold1/train/images/\"\n",
        "test_path=\"/content/drive/MyDrive/BaklagilDataSet/DB3_Histeq/fold1/test/images/\""
      ]
    },
    {
      "cell_type": "code",
      "execution_count": null,
      "metadata": {
        "id": "ZdW-10v1xpon"
      },
      "outputs": [],
      "source": [
        "numberOfClass=len(glob(train_path+\"/*\"))"
      ]
    },
    {
      "cell_type": "code",
      "execution_count": null,
      "metadata": {
        "colab": {
          "base_uri": "https://localhost:8080/"
        },
        "id": "tzwVbIdoxxF7",
        "outputId": "25ee2bfd-2552-4104-e6d4-5042de4e9407"
      },
      "outputs": [
        {
          "name": "stdout",
          "output_type": "stream",
          "text": [
            "30\n"
          ]
        }
      ],
      "source": [
        "print(numberOfClass)"
      ]
    },
    {
      "cell_type": "code",
      "execution_count": null,
      "metadata": {
        "id": "bwlR0gh1x2SR"
      },
      "outputs": [],
      "source": [
        "inc= InceptionV3(include_top=False,\n",
        "                 weights='imagenet',\n",
        "                 input_shape=(224,224,3))\n",
        "\n",
        "inc.trainable=False\n",
        "x =Flatten()(inc.output)\n",
        "x =GlobalAveragePooling2D()(inc.output)\n",
        "x= Dense(32, activation='relu')(x)\n",
        "x= Dense(32, activation='relu')(x)\n",
        "out=Dense(30,activation='softmax')(x)\n",
        "model= Model(inputs=inc.inputs, outputs=out, name='Xception')\n",
        "\n",
        "print(len(model.layers))\n",
        "for layer in model.layers:\n",
        "  print(layer.name,\" \",layer.trainable)\n",
        "\n",
        "for layer in model.layers[:10]:\n",
        "  layer.trainable=False\n",
        "model.summary()  \n",
        "\n"
      ]
    },
    {
      "cell_type": "code",
      "execution_count": null,
      "metadata": {
        "id": "G4JPl28dyJXh"
      },
      "outputs": [],
      "source": [
        "#print(inc.summary())"
      ]
    },
    {
      "cell_type": "code",
      "execution_count": null,
      "metadata": {
        "colab": {
          "base_uri": "https://localhost:8080/"
        },
        "id": "u2xMl4-QyeS-",
        "outputId": "274b1a47-2cb0-4c11-b14f-549563a83537"
      },
      "outputs": [
        {
          "name": "stdout",
          "output_type": "stream",
          "text": [
            "<class 'keras.engine.functional.Functional'>\n"
          ]
        }
      ],
      "source": [
        "print(type(inc))"
      ]
    },
    {
      "cell_type": "code",
      "execution_count": null,
      "metadata": {
        "id": "SV7s3jpNylsd"
      },
      "outputs": [],
      "source": [
        "#inc_layer_list= inc.layers\n",
        "#print(inc_layer_list)"
      ]
    },
    {
      "cell_type": "code",
      "execution_count": null,
      "metadata": {
        "id": "3TZbFYdhy9Kc"
      },
      "outputs": [],
      "source": [
        "#last_layer = inc.get_layer('mixed10')\n",
        "#print(last_layer.output_shape)\n"
      ]
    },
    {
      "cell_type": "code",
      "execution_count": null,
      "metadata": {
        "id": "3Kg1VXfC1iOA"
      },
      "outputs": [],
      "source": [
        "#last_output= last_layer.output\n",
        "#x = layers.Flatten()(last_output)\n",
        "#x = layers.Dense(1024, activation='relu')(x)\n",
        "#x = layers.Dropout(0.2)(x)\n",
        "#x= layers.Dense(1, activation='sigmoid')(x)\n",
        "\n",
        "#model = Model(inc.input, x)"
      ]
    },
    {
      "cell_type": "code",
      "execution_count": null,
      "metadata": {
        "colab": {
          "base_uri": "https://localhost:8080/"
        },
        "id": "8FuXGVh_xnyL",
        "outputId": "d1c819e5-48f1-432b-afbe-3273a3ff203f"
      },
      "outputs": [
        {
          "name": "stdout",
          "output_type": "stream",
          "text": [
            "<keras.engine.functional.Functional object at 0x7f033a0b6340>\n"
          ]
        }
      ],
      "source": [
        "print(model)"
      ]
    },
    {
      "cell_type": "code",
      "execution_count": null,
      "metadata": {
        "id": "j6KmmuDS2C1N"
      },
      "outputs": [],
      "source": [
        "#print(model.summary())"
      ]
    },
    {
      "cell_type": "code",
      "execution_count": null,
      "metadata": {
        "colab": {
          "base_uri": "https://localhost:8080/"
        },
        "id": "HshDPtTn2SDS",
        "outputId": "2a0658ef-5178-4ba1-af1e-006a26a332f6"
      },
      "outputs": [
        {
          "name": "stderr",
          "output_type": "stream",
          "text": [
            "/usr/local/lib/python3.8/dist-packages/keras/optimizers/optimizer_v2/rmsprop.py:135: UserWarning: The `lr` argument is deprecated, use `learning_rate` instead.\n",
            "  super(RMSprop, self).__init__(name, **kwargs)\n"
          ]
        }
      ],
      "source": [
        "from keras.optimizers.optimizer_v2.rmsprop import RMSProp\n",
        "optim_1 = RMSProp(lr=0.0001)\n",
        "model.compile(loss=\"categorical_crossentropy\", optimizer=optim_1, metrics=[\"accuracy\"])"
      ]
    },
    {
      "cell_type": "code",
      "execution_count": null,
      "metadata": {
        "colab": {
          "base_uri": "https://localhost:8080/"
        },
        "id": "pXIwN58Y2b5A",
        "outputId": "0e7b60de-4fb4-4ba1-b95c-344f6dc7fe3d"
      },
      "outputs": [
        {
          "name": "stdout",
          "output_type": "stream",
          "text": [
            "Found 3601 images belonging to 30 classes.\n",
            "Found 900 images belonging to 30 classes.\n"
          ]
        }
      ],
      "source": [
        "#train\n",
        "train_data= ImageDataGenerator().flow_from_directory(train_path, target_size=(224,224))\n",
        "test_data= ImageDataGenerator().flow_from_directory(test_path, target_size=(224,224))"
      ]
    },
    {
      "cell_type": "code",
      "execution_count": null,
      "metadata": {
        "id": "9LioeN-U2gaQ"
      },
      "outputs": [],
      "source": [
        "batch_size=50"
      ]
    },
    {
      "cell_type": "code",
      "source": [
        "from keras.callbacks import ModelCheckpoint,CSVLogger\n",
        "filepath=\"/content/drive/MyDrive/saved_models/weights-improvementIncV3-{epoch:05d}.ckpt\"\n",
        "checkpoint= ModelCheckpoint(filepath, monitor='val_acc', verbose=1, save_best_only=False,save_freq=5*72, mode='max')\n",
        "#log_csv =CSVLogger('my_logs.csv', separator=',', append=False)\n",
        "callbacks_list =[checkpoint]"
      ],
      "metadata": {
        "id": "14axJxL0CSOQ"
      },
      "execution_count": null,
      "outputs": []
    },
    {
      "cell_type": "code",
      "execution_count": null,
      "metadata": {
        "colab": {
          "background_save": true,
          "base_uri": "https://localhost:8080/"
        },
        "id": "6STqLuF12j4u",
        "outputId": "e951dcea-f745-4991-d10e-aa6b4e94f128"
      },
      "outputs": [
        {
          "name": "stderr",
          "output_type": "stream",
          "text": [
            "<ipython-input-14-69e4907365a4>:1: UserWarning: `Model.fit_generator` is deprecated and will be removed in a future version. Please use `Model.fit`, which supports generators.\n",
            "  hist=model.fit_generator(train_data,\n"
          ]
        },
        {
          "name": "stdout",
          "output_type": "stream",
          "text": [
            "Epoch 1/100\n",
            "72/72 [==============================] - 350s 5s/step - loss: 5.4187 - accuracy: 0.0537 - val_loss: 3.6389 - val_accuracy: 0.0556\n",
            "Epoch 2/100\n",
            "72/72 [==============================] - 321s 4s/step - loss: 3.4465 - accuracy: 0.0874 - val_loss: 3.3286 - val_accuracy: 0.1094\n",
            "Epoch 3/100\n",
            "72/72 [==============================] - 321s 4s/step - loss: 3.2367 - accuracy: 0.1145 - val_loss: 3.1735 - val_accuracy: 0.1128\n",
            "Epoch 4/100\n",
            "72/72 [==============================] - 316s 4s/step - loss: 3.1101 - accuracy: 0.1420 - val_loss: 3.0568 - val_accuracy: 0.1597\n",
            "Epoch 5/100\n",
            "72/72 [==============================] - 317s 4s/step - loss: 2.9303 - accuracy: 0.1771 - val_loss: 3.0221 - val_accuracy: 0.1701\n",
            "Epoch 6/100\n",
            "72/72 [==============================] - 315s 4s/step - loss: 2.8612 - accuracy: 0.1962 - val_loss: 2.9129 - val_accuracy: 0.1667\n",
            "Epoch 7/100\n",
            "72/72 [==============================] - 324s 5s/step - loss: 2.7678 - accuracy: 0.2201 - val_loss: 2.8301 - val_accuracy: 0.2049\n",
            "Epoch 8/100\n",
            "72/72 [==============================] - 314s 4s/step - loss: 2.6962 - accuracy: 0.2307 - val_loss: 2.8269 - val_accuracy: 0.2188\n",
            "Epoch 9/100\n",
            "72/72 [==============================] - 319s 4s/step - loss: 2.6316 - accuracy: 0.2508 - val_loss: 2.7894 - val_accuracy: 0.2135\n",
            "Epoch 10/100\n",
            "72/72 [==============================] - 322s 4s/step - loss: 2.5483 - accuracy: 0.2704 - val_loss: 2.7792 - val_accuracy: 0.2066\n",
            "Epoch 11/100\n",
            "72/72 [==============================] - 317s 4s/step - loss: 2.4933 - accuracy: 0.2795 - val_loss: 2.6225 - val_accuracy: 0.2465\n",
            "Epoch 12/100\n",
            "72/72 [==============================] - 319s 4s/step - loss: 2.4164 - accuracy: 0.2831 - val_loss: 2.6473 - val_accuracy: 0.2569\n",
            "Epoch 13/100\n",
            "72/72 [==============================] - 314s 4s/step - loss: 2.3884 - accuracy: 0.2923 - val_loss: 2.5470 - val_accuracy: 0.2569\n",
            "Epoch 14/100\n",
            "72/72 [==============================] - 316s 4s/step - loss: 2.3040 - accuracy: 0.3128 - val_loss: 2.5449 - val_accuracy: 0.2778\n",
            "Epoch 15/100\n",
            "72/72 [==============================] - 311s 4s/step - loss: 2.2658 - accuracy: 0.3132 - val_loss: 2.5108 - val_accuracy: 0.2830\n",
            "Epoch 16/100\n",
            "72/72 [==============================] - 317s 4s/step - loss: 2.1980 - accuracy: 0.3364 - val_loss: 2.4069 - val_accuracy: 0.2726\n",
            "Epoch 17/100\n",
            "72/72 [==============================] - 313s 4s/step - loss: 2.1186 - accuracy: 0.3411 - val_loss: 2.4128 - val_accuracy: 0.2795\n",
            "Epoch 18/100\n",
            "72/72 [==============================] - 317s 4s/step - loss: 2.1629 - accuracy: 0.3403 - val_loss: 2.3680 - val_accuracy: 0.3038\n",
            "Epoch 19/100\n",
            "72/72 [==============================] - 315s 4s/step - loss: 2.0763 - accuracy: 0.3569 - val_loss: 2.3810 - val_accuracy: 0.2969\n",
            "Epoch 20/100\n",
            "72/72 [==============================] - 318s 4s/step - loss: 2.0504 - accuracy: 0.3617 - val_loss: 2.3079 - val_accuracy: 0.3125\n",
            "Epoch 21/100\n",
            "72/72 [==============================] - 313s 4s/step - loss: 2.0020 - accuracy: 0.3674 - val_loss: 2.3734 - val_accuracy: 0.3090\n",
            "Epoch 22/100\n",
            "72/72 [==============================] - 318s 4s/step - loss: 1.9876 - accuracy: 0.3713 - val_loss: 2.2990 - val_accuracy: 0.3108\n",
            "Epoch 23/100\n",
            "72/72 [==============================] - 314s 4s/step - loss: 1.9507 - accuracy: 0.3748 - val_loss: 2.2686 - val_accuracy: 0.3368\n",
            "Epoch 24/100\n",
            "72/72 [==============================] - 319s 4s/step - loss: 1.8838 - accuracy: 0.4076 - val_loss: 2.3094 - val_accuracy: 0.3125\n",
            "Epoch 25/100\n",
            "72/72 [==============================] - 314s 4s/step - loss: 1.8900 - accuracy: 0.3941 - val_loss: 2.2307 - val_accuracy: 0.3125\n",
            "Epoch 26/100\n",
            "72/72 [==============================] - 320s 4s/step - loss: 1.8532 - accuracy: 0.4163 - val_loss: 2.2502 - val_accuracy: 0.3368\n",
            "Epoch 27/100\n",
            "72/72 [==============================] - 311s 4s/step - loss: 1.8260 - accuracy: 0.4198 - val_loss: 2.1543 - val_accuracy: 0.3542\n",
            "Epoch 28/100\n",
            "72/72 [==============================] - 317s 4s/step - loss: 1.7881 - accuracy: 0.4150 - val_loss: 2.2004 - val_accuracy: 0.3299\n",
            "Epoch 29/100\n",
            "72/72 [==============================] - 315s 4s/step - loss: 1.7532 - accuracy: 0.4343 - val_loss: 2.0814 - val_accuracy: 0.3576\n",
            "Epoch 30/100\n",
            "72/72 [==============================] - 318s 4s/step - loss: 1.7368 - accuracy: 0.4312 - val_loss: 2.2426 - val_accuracy: 0.3299\n",
            "Epoch 31/100\n",
            "72/72 [==============================] - 319s 4s/step - loss: 1.7250 - accuracy: 0.4379 - val_loss: 2.1445 - val_accuracy: 0.3281\n",
            "Epoch 32/100\n",
            "72/72 [==============================] - 315s 4s/step - loss: 1.6437 - accuracy: 0.4701 - val_loss: 2.1589 - val_accuracy: 0.3559\n",
            "Epoch 33/100\n",
            "72/72 [==============================] - 314s 4s/step - loss: 1.6374 - accuracy: 0.4701 - val_loss: 2.1517 - val_accuracy: 0.3351\n",
            "Epoch 34/100\n",
            "72/72 [==============================] - 326s 5s/step - loss: 1.6349 - accuracy: 0.4762 - val_loss: 2.0767 - val_accuracy: 0.3733\n",
            "Epoch 35/100\n",
            "72/72 [==============================] - 318s 4s/step - loss: 1.5980 - accuracy: 0.4775 - val_loss: 2.0788 - val_accuracy: 0.3750\n",
            "Epoch 36/100\n",
            "72/72 [==============================] - 322s 4s/step - loss: 1.5786 - accuracy: 0.4910 - val_loss: 2.1687 - val_accuracy: 0.3542\n",
            "Epoch 37/100\n",
            "72/72 [==============================] - 324s 4s/step - loss: 1.5822 - accuracy: 0.4980 - val_loss: 2.0500 - val_accuracy: 0.3837\n",
            "Epoch 38/100\n",
            "72/72 [==============================] - 322s 4s/step - loss: 1.5134 - accuracy: 0.5109 - val_loss: 2.0571 - val_accuracy: 0.3715\n",
            "Epoch 39/100\n",
            "72/72 [==============================] - 323s 4s/step - loss: 1.5058 - accuracy: 0.5098 - val_loss: 2.0366 - val_accuracy: 0.3785\n",
            "Epoch 40/100\n",
            "72/72 [==============================] - 322s 4s/step - loss: 1.5024 - accuracy: 0.4972 - val_loss: 2.0134 - val_accuracy: 0.3646\n",
            "Epoch 41/100\n",
            "72/72 [==============================] - 322s 4s/step - loss: 1.4493 - accuracy: 0.5326 - val_loss: 2.0071 - val_accuracy: 0.3889\n",
            "Epoch 42/100\n",
            "72/72 [==============================] - 321s 4s/step - loss: 1.4823 - accuracy: 0.5208 - val_loss: 2.0022 - val_accuracy: 0.3819\n",
            "Epoch 43/100\n",
            "72/72 [==============================] - 321s 4s/step - loss: 1.4133 - accuracy: 0.5374 - val_loss: 1.9349 - val_accuracy: 0.4028\n",
            "Epoch 44/100\n",
            "72/72 [==============================] - 320s 4s/step - loss: 1.4122 - accuracy: 0.5404 - val_loss: 1.9502 - val_accuracy: 0.3733\n",
            "Epoch 45/100\n",
            "72/72 [==============================] - 321s 4s/step - loss: 1.4095 - accuracy: 0.5374 - val_loss: 1.9531 - val_accuracy: 0.4253\n",
            "Epoch 46/100\n",
            "72/72 [==============================] - 317s 4s/step - loss: 1.4213 - accuracy: 0.5395 - val_loss: 1.9557 - val_accuracy: 0.4010\n",
            "Epoch 47/100\n",
            "72/72 [==============================] - 320s 4s/step - loss: 1.3886 - accuracy: 0.5486 - val_loss: 1.8936 - val_accuracy: 0.4288\n",
            "Epoch 48/100\n",
            "72/72 [==============================] - 321s 4s/step - loss: 1.3665 - accuracy: 0.5608 - val_loss: 1.9128 - val_accuracy: 0.4132\n",
            "Epoch 49/100\n",
            "72/72 [==============================] - 322s 4s/step - loss: 1.3372 - accuracy: 0.5699 - val_loss: 1.8951 - val_accuracy: 0.4184\n",
            "Epoch 50/100\n",
            "72/72 [==============================] - 322s 4s/step - loss: 1.3694 - accuracy: 0.5583 - val_loss: 1.8283 - val_accuracy: 0.4375\n",
            "Epoch 51/100\n",
            "72/72 [==============================] - 321s 4s/step - loss: 1.2974 - accuracy: 0.5679 - val_loss: 1.9513 - val_accuracy: 0.4288\n",
            "Epoch 52/100\n",
            "72/72 [==============================] - 321s 4s/step - loss: 1.3139 - accuracy: 0.5723 - val_loss: 1.9694 - val_accuracy: 0.4149\n",
            "Epoch 53/100\n",
            "72/72 [==============================] - 325s 5s/step - loss: 1.2704 - accuracy: 0.5920 - val_loss: 1.8913 - val_accuracy: 0.4271\n",
            "Epoch 54/100\n",
            "72/72 [==============================] - 325s 5s/step - loss: 1.2730 - accuracy: 0.5951 - val_loss: 1.9020 - val_accuracy: 0.4392\n",
            "Epoch 55/100\n",
            "72/72 [==============================] - 324s 5s/step - loss: 1.2337 - accuracy: 0.5816 - val_loss: 1.8353 - val_accuracy: 0.4375\n",
            "Epoch 56/100\n",
            "72/72 [==============================] - 322s 4s/step - loss: 1.2186 - accuracy: 0.6033 - val_loss: 1.9367 - val_accuracy: 0.4236\n",
            "Epoch 57/100\n",
            "72/72 [==============================] - 322s 4s/step - loss: 1.2101 - accuracy: 0.6055 - val_loss: 1.8490 - val_accuracy: 0.4670\n",
            "Epoch 58/100\n",
            "72/72 [==============================] - 321s 4s/step - loss: 1.2237 - accuracy: 0.5994 - val_loss: 1.7470 - val_accuracy: 0.4531\n",
            "Epoch 59/100\n",
            "72/72 [==============================] - 320s 4s/step - loss: 1.1866 - accuracy: 0.6129 - val_loss: 1.8268 - val_accuracy: 0.4740\n",
            "Epoch 60/100\n",
            "72/72 [==============================] - 320s 4s/step - loss: 1.1838 - accuracy: 0.6164 - val_loss: 1.8262 - val_accuracy: 0.4410\n",
            "Epoch 61/100\n",
            "72/72 [==============================] - 319s 4s/step - loss: 1.1624 - accuracy: 0.6160 - val_loss: 1.8607 - val_accuracy: 0.4688\n",
            "Epoch 62/100\n",
            "72/72 [==============================] - 322s 4s/step - loss: 1.1297 - accuracy: 0.6224 - val_loss: 1.7646 - val_accuracy: 0.4705\n",
            "Epoch 63/100\n",
            "72/72 [==============================] - 320s 4s/step - loss: 1.1424 - accuracy: 0.6315 - val_loss: 1.8569 - val_accuracy: 0.4462\n",
            "Epoch 64/100\n",
            "72/72 [==============================] - 319s 4s/step - loss: 1.1235 - accuracy: 0.6225 - val_loss: 1.9362 - val_accuracy: 0.4306\n",
            "Epoch 65/100\n",
            "72/72 [==============================] - 322s 4s/step - loss: 1.1030 - accuracy: 0.6458 - val_loss: 1.7712 - val_accuracy: 0.4462\n",
            "Epoch 66/100\n",
            "72/72 [==============================] - 319s 4s/step - loss: 1.0683 - accuracy: 0.6444 - val_loss: 1.8368 - val_accuracy: 0.4462\n",
            "Epoch 67/100\n",
            "72/72 [==============================] - 321s 4s/step - loss: 1.0391 - accuracy: 0.6654 - val_loss: 1.8679 - val_accuracy: 0.4549\n",
            "Epoch 68/100\n",
            "72/72 [==============================] - 320s 4s/step - loss: 1.0832 - accuracy: 0.6396 - val_loss: 1.8045 - val_accuracy: 0.4566\n",
            "Epoch 69/100\n",
            "72/72 [==============================] - 321s 4s/step - loss: 1.0647 - accuracy: 0.6597 - val_loss: 1.8804 - val_accuracy: 0.4705\n",
            "Epoch 70/100\n",
            "72/72 [==============================] - 320s 4s/step - loss: 1.0498 - accuracy: 0.6610 - val_loss: 1.8144 - val_accuracy: 0.4427\n",
            "Epoch 71/100\n",
            "72/72 [==============================] - 318s 4s/step - loss: 1.0353 - accuracy: 0.6627 - val_loss: 1.8292 - val_accuracy: 0.4670\n",
            "Epoch 72/100\n",
            "72/72 [==============================] - ETA: 0s - loss: 1.0242 - accuracy: 0.6610"
          ]
        }
      ],
      "source": [
        "hist=model.fit_generator(train_data,\n",
        "                         steps_per_epoch=3600//batch_size,\n",
        "                         epochs=100,\n",
        "                         validation_data= test_data,\n",
        "                         validation_steps = 900//batch_size )"
      ]
    },
    {
      "cell_type": "code",
      "source": [
        "hist=model.fit_generator(train_data,\n",
        "                         steps_per_epoch=3600//batch_size,\n",
        "                         epochs=15,\n",
        "                         initial_epoch=0,\n",
        "                         validation_data= test_data,\n",
        "                         validation_steps = 900//batch_size,\n",
        "                         callbacks=callbacks_list)"
      ],
      "metadata": {
        "id": "MXQG3V863uKN"
      },
      "execution_count": null,
      "outputs": []
    },
    {
      "cell_type": "code",
      "source": [
        "model.load_weights(\"/content/drive/MyDrive/saved_models/weights-improvementIncV3-00015.ckpt\")"
      ],
      "metadata": {
        "id": "FLwJxtuv3qBM"
      },
      "execution_count": null,
      "outputs": []
    },
    {
      "cell_type": "code",
      "source": [
        "hist=model.fit_generator(train_data,\n",
        "                         steps_per_epoch=3600//batch_size,\n",
        "                         epochs=25,\n",
        "                         initial_epoch=15,\n",
        "                         validation_data= test_data,\n",
        "                         validation_steps = 900//batch_size,\n",
        "                         callbacks=callbacks_list)"
      ],
      "metadata": {
        "id": "SUK86UnK3taX"
      },
      "execution_count": null,
      "outputs": []
    },
    {
      "cell_type": "code",
      "source": [
        "model.load_weights(\"/content/drive/MyDrive/saved_models/weights-improvementIncV3-00025.ckpt\")"
      ],
      "metadata": {
        "id": "gS4WznlZ4Ewe"
      },
      "execution_count": null,
      "outputs": []
    },
    {
      "cell_type": "code",
      "source": [
        "hist=model.fit_generator(train_data,\n",
        "                         steps_per_epoch=3600//batch_size,\n",
        "                         epochs=50,\n",
        "                         initial_epoch=25,\n",
        "                         validation_data= test_data,\n",
        "                         validation_steps = 900//batch_size,\n",
        "                         callbacks=callbacks_list)"
      ],
      "metadata": {
        "id": "SLWtih0A3tI7"
      },
      "execution_count": null,
      "outputs": []
    },
    {
      "cell_type": "code",
      "source": [
        "model.load_weights(\"/content/drive/MyDrive/saved_models/weights-improvementIncV3-00050.ckpt\")"
      ],
      "metadata": {
        "id": "JtgiYpoV4Hlq"
      },
      "execution_count": null,
      "outputs": []
    },
    {
      "cell_type": "code",
      "source": [
        "hist=model.fit_generator(train_data,\n",
        "                         steps_per_epoch=3600//batch_size,\n",
        "                         epochs=75,\n",
        "                         initial_epoch=50,\n",
        "                         validation_data= test_data,\n",
        "                         validation_steps = 900//batch_size,\n",
        "                         callbacks=callbacks_list)"
      ],
      "metadata": {
        "id": "aUT_uGH43sC1"
      },
      "execution_count": null,
      "outputs": []
    },
    {
      "cell_type": "code",
      "source": [
        "model.load_weights(\"/content/drive/MyDrive/saved_models/weights-improvementIncV3-00075.ckpt\")"
      ],
      "metadata": {
        "id": "M9pnVuQz4Kp-"
      },
      "execution_count": null,
      "outputs": []
    },
    {
      "cell_type": "code",
      "source": [
        "hist=model.fit_generator(train_data,\n",
        "                         steps_per_epoch=3600//batch_size,\n",
        "                         epochs=100,\n",
        "                         initial_epoch=75,\n",
        "                         validation_data= test_data,\n",
        "                         validation_steps = 900//batch_size,\n",
        "                         callbacks=callbacks_list)"
      ],
      "metadata": {
        "id": "-2iH3W9g2Erj"
      },
      "execution_count": null,
      "outputs": []
    },
    {
      "cell_type": "code",
      "source": [
        "model.load_weights(\"/content/drive/MyDrive/saved_models/weights-improvementIncV3-00100.ckpt\")"
      ],
      "metadata": {
        "id": "JRmCu8RM4NkP"
      },
      "execution_count": null,
      "outputs": []
    },
    {
      "cell_type": "code",
      "source": [
        "model.save_weights(\"BaklagilFold1RMSProplr0.0001InceptionV3\")"
      ],
      "metadata": {
        "id": "vULMPEpd4RD7"
      },
      "execution_count": null,
      "outputs": []
    }
  ],
  "metadata": {
    "colab": {
      "provenance": [],
      "authorship_tag": "ABX9TyMLb8Jt8yy7JMpXzvFhZb/d",
      "include_colab_link": true
    },
    "kernelspec": {
      "display_name": "Python 3",
      "name": "python3"
    },
    "language_info": {
      "name": "python"
    }
  },
  "nbformat": 4,
  "nbformat_minor": 0
}